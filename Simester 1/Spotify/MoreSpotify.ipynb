{
 "cells": [
  {
   "cell_type": "code",
   "execution_count": 71,
   "id": "abf7f67f",
   "metadata": {},
   "outputs": [],
   "source": [
    "import pandas as pd\n",
    "import seaborn as sns "
   ]
  },
  {
   "cell_type": "code",
   "execution_count": 72,
   "id": "77c267ab",
   "metadata": {
    "scrolled": true
   },
   "outputs": [
    {
     "name": "stdout",
     "output_type": "stream",
     "text": [
      "<class 'pandas.core.frame.DataFrame'>\n",
      "RangeIndex: 32833 entries, 0 to 32832\n",
      "Data columns (total 23 columns):\n",
      " #   Column                    Non-Null Count  Dtype  \n",
      "---  ------                    --------------  -----  \n",
      " 0   track_id                  32833 non-null  object \n",
      " 1   track_name                32828 non-null  object \n",
      " 2   track_artist              32828 non-null  object \n",
      " 3   track_popularity          32833 non-null  int64  \n",
      " 4   track_album_id            32833 non-null  object \n",
      " 5   track_album_name          32828 non-null  object \n",
      " 6   track_album_release_date  32833 non-null  object \n",
      " 7   playlist_name             32833 non-null  object \n",
      " 8   playlist_id               32833 non-null  object \n",
      " 9   playlist_genre            32833 non-null  object \n",
      " 10  playlist_subgenre         32833 non-null  object \n",
      " 11  danceability              32833 non-null  float64\n",
      " 12  energy                    32833 non-null  float64\n",
      " 13  key                       32833 non-null  int64  \n",
      " 14  loudness                  32833 non-null  float64\n",
      " 15  mode                      32833 non-null  int64  \n",
      " 16  speechiness               32833 non-null  float64\n",
      " 17  acousticness              32833 non-null  float64\n",
      " 18  instrumentalness          32833 non-null  float64\n",
      " 19  liveness                  32833 non-null  float64\n",
      " 20  valence                   32833 non-null  float64\n",
      " 21  tempo                     32833 non-null  float64\n",
      " 22  duration_ms               32833 non-null  int64  \n",
      "dtypes: float64(9), int64(4), object(10)\n",
      "memory usage: 5.8+ MB\n"
     ]
    }
   ],
   "source": [
    "df = pd.read_csv(\"spotify_songs.csv\")\n",
    "df.info()"
   ]
  },
  {
   "cell_type": "code",
   "execution_count": 73,
   "id": "a5029bdb",
   "metadata": {},
   "outputs": [
    {
     "data": {
      "text/plain": [
       "<AxesSubplot:xlabel='track_popularity', ylabel='Count'>"
      ]
     },
     "execution_count": 73,
     "metadata": {},
     "output_type": "execute_result"
    },
    {
     "data": {
      "image/png": "[encoded data removed]",
      "text/plain": [
       "<Figure size 640x480 with 1 Axes>"
      ]
     },
     "metadata": {},
     "output_type": "display_data"
    }
   ],
   "source": [
    "sns.histplot(data=df, x= \"track_popularity\", bins=50)"
   ]
  },
  {
   "cell_type": "code",
   "execution_count": 74,
   "id": "863fe026",
   "metadata": {},
   "outputs": [
    {
     "ename": "KeyError",
     "evalue": "'track_popularity '",
     "output_type": "error",
     "traceback": [
      "\u001b[1;31m---------------------------------------------------------------------------\u001b[0m",
      "\u001b[1;31mKeyError\u001b[0m                                  Traceback (most recent call last)",
      "\u001b[1;32mC:\\ProgramData\\Anaconda3\\lib\\site-packages\\pandas\\core\\indexes\\base.py\u001b[0m in \u001b[0;36mget_loc\u001b[1;34m(self, key, method, tolerance)\u001b[0m\n\u001b[0;32m   3628\u001b[0m             \u001b[1;32mtry\u001b[0m\u001b[1;33m:\u001b[0m\u001b[1;33m\u001b[0m\u001b[1;33m\u001b[0m\u001b[0m\n\u001b[1;32m-> 3629\u001b[1;33m                 \u001b[1;32mreturn\u001b[0m \u001b[0mself\u001b[0m\u001b[1;33m.\u001b[0m\u001b[0m_engine\u001b[0m\u001b[1;33m.\u001b[0m\u001b[0mget_loc\u001b[0m\u001b[1;33m(\u001b[0m\u001b[0mcasted_key\u001b[0m\u001b[1;33m)\u001b[0m\u001b[1;33m\u001b[0m\u001b[1;33m\u001b[0m\u001b[0m\n\u001b[0m\u001b[0;32m   3630\u001b[0m             \u001b[1;32mexcept\u001b[0m \u001b[0mKeyError\u001b[0m \u001b[1;32mas\u001b[0m \u001b[0merr\u001b[0m\u001b[1;33m:\u001b[0m\u001b[1;33m\u001b[0m\u001b[1;33m\u001b[0m\u001b[0m\n",
      "\u001b[1;32mC:\\ProgramData\\Anaconda3\\lib\\site-packages\\pandas\\_libs\\index.pyx\u001b[0m in \u001b[0;36mpandas._libs.index.IndexEngine.get_loc\u001b[1;34m()\u001b[0m\n",
      "\u001b[1;32mC:\\ProgramData\\Anaconda3\\lib\\site-packages\\pandas\\_libs\\index.pyx\u001b[0m in \u001b[0;36mpandas._libs.index.IndexEngine.get_loc\u001b[1;34m()\u001b[0m\n",
      "\u001b[1;32mpandas\\_libs\\hashtable_class_helper.pxi\u001b[0m in \u001b[0;36mpandas._libs.hashtable.PyObjectHashTable.get_item\u001b[1;34m()\u001b[0m\n",
      "\u001b[1;32mpandas\\_libs\\hashtable_class_helper.pxi\u001b[0m in \u001b[0;36mpandas._libs.hashtable.PyObjectHashTable.get_item\u001b[1;34m()\u001b[0m\n",
      "\u001b[1;31mKeyError\u001b[0m: 'track_popularity '",
      "\nThe above exception was the direct cause of the following exception:\n",
      "\u001b[1;31mKeyError\u001b[0m                                  Traceback (most recent call last)",
      "\u001b[1;32m~\\AppData\\Local\\Temp\\ipykernel_18316\\152539679.py\u001b[0m in \u001b[0;36m<module>\u001b[1;34m\u001b[0m\n\u001b[0;32m      2\u001b[0m     \u001b[1;34m\"Max\"\u001b[0m\u001b[1;33m:\u001b[0m \u001b[0mdf\u001b[0m\u001b[1;33m[\u001b[0m\u001b[1;34m\"track_popularity\"\u001b[0m\u001b[1;33m]\u001b[0m\u001b[1;33m.\u001b[0m\u001b[0mmax\u001b[0m\u001b[1;33m(\u001b[0m\u001b[1;33m)\u001b[0m\u001b[1;33m,\u001b[0m\u001b[1;33m\u001b[0m\u001b[1;33m\u001b[0m\u001b[0m\n\u001b[0;32m      3\u001b[0m     \u001b[1;34m\"Q1\"\u001b[0m\u001b[1;33m:\u001b[0m \u001b[0mdf\u001b[0m\u001b[1;33m[\u001b[0m\u001b[1;34m\"track_popularity\"\u001b[0m\u001b[1;33m]\u001b[0m\u001b[1;33m.\u001b[0m\u001b[0mquantile\u001b[0m\u001b[1;33m(\u001b[0m\u001b[1;36m0.75\u001b[0m\u001b[1;33m)\u001b[0m\u001b[1;33m,\u001b[0m\u001b[1;33m\u001b[0m\u001b[1;33m\u001b[0m\u001b[0m\n\u001b[1;32m----> 4\u001b[1;33m     \u001b[1;34m\"median\"\u001b[0m\u001b[1;33m:\u001b[0m \u001b[0mdf\u001b[0m\u001b[1;33m[\u001b[0m\u001b[1;34m\"track_popularity \"\u001b[0m\u001b[1;33m]\u001b[0m\u001b[1;33m.\u001b[0m\u001b[0mmedian\u001b[0m\u001b[1;33m(\u001b[0m\u001b[1;33m)\u001b[0m\u001b[1;33m,\u001b[0m\u001b[1;33m\u001b[0m\u001b[1;33m\u001b[0m\u001b[0m\n\u001b[0m\u001b[0;32m      5\u001b[0m \u001b[1;33m\u001b[0m\u001b[0m\n\u001b[0;32m      6\u001b[0m }\n",
      "\u001b[1;32mC:\\ProgramData\\Anaconda3\\lib\\site-packages\\pandas\\core\\frame.py\u001b[0m in \u001b[0;36m__getitem__\u001b[1;34m(self, key)\u001b[0m\n\u001b[0;32m   3503\u001b[0m             \u001b[1;32mif\u001b[0m \u001b[0mself\u001b[0m\u001b[1;33m.\u001b[0m\u001b[0mcolumns\u001b[0m\u001b[1;33m.\u001b[0m\u001b[0mnlevels\u001b[0m \u001b[1;33m>\u001b[0m \u001b[1;36m1\u001b[0m\u001b[1;33m:\u001b[0m\u001b[1;33m\u001b[0m\u001b[1;33m\u001b[0m\u001b[0m\n\u001b[0;32m   3504\u001b[0m                 \u001b[1;32mreturn\u001b[0m \u001b[0mself\u001b[0m\u001b[1;33m.\u001b[0m\u001b[0m_getitem_multilevel\u001b[0m\u001b[1;33m(\u001b[0m\u001b[0mkey\u001b[0m\u001b[1;33m)\u001b[0m\u001b[1;33m\u001b[0m\u001b[1;33m\u001b[0m\u001b[0m\n\u001b[1;32m-> 3505\u001b[1;33m             \u001b[0mindexer\u001b[0m \u001b[1;33m=\u001b[0m \u001b[0mself\u001b[0m\u001b[1;33m.\u001b[0m\u001b[0mcolumns\u001b[0m\u001b[1;33m.\u001b[0m\u001b[0mget_loc\u001b[0m\u001b[1;33m(\u001b[0m\u001b[0mkey\u001b[0m\u001b[1;33m)\u001b[0m\u001b[1;33m\u001b[0m\u001b[1;33m\u001b[0m\u001b[0m\n\u001b[0m\u001b[0;32m   3506\u001b[0m             \u001b[1;32mif\u001b[0m \u001b[0mis_integer\u001b[0m\u001b[1;33m(\u001b[0m\u001b[0mindexer\u001b[0m\u001b[1;33m)\u001b[0m\u001b[1;33m:\u001b[0m\u001b[1;33m\u001b[0m\u001b[1;33m\u001b[0m\u001b[0m\n\u001b[0;32m   3507\u001b[0m                 \u001b[0mindexer\u001b[0m \u001b[1;33m=\u001b[0m \u001b[1;33m[\u001b[0m\u001b[0mindexer\u001b[0m\u001b[1;33m]\u001b[0m\u001b[1;33m\u001b[0m\u001b[1;33m\u001b[0m\u001b[0m\n",
      "\u001b[1;32mC:\\ProgramData\\Anaconda3\\lib\\site-packages\\pandas\\core\\indexes\\base.py\u001b[0m in \u001b[0;36mget_loc\u001b[1;34m(self, key, method, tolerance)\u001b[0m\n\u001b[0;32m   3629\u001b[0m                 \u001b[1;32mreturn\u001b[0m \u001b[0mself\u001b[0m\u001b[1;33m.\u001b[0m\u001b[0m_engine\u001b[0m\u001b[1;33m.\u001b[0m\u001b[0mget_loc\u001b[0m\u001b[1;33m(\u001b[0m\u001b[0mcasted_key\u001b[0m\u001b[1;33m)\u001b[0m\u001b[1;33m\u001b[0m\u001b[1;33m\u001b[0m\u001b[0m\n\u001b[0;32m   3630\u001b[0m             \u001b[1;32mexcept\u001b[0m \u001b[0mKeyError\u001b[0m \u001b[1;32mas\u001b[0m \u001b[0merr\u001b[0m\u001b[1;33m:\u001b[0m\u001b[1;33m\u001b[0m\u001b[1;33m\u001b[0m\u001b[0m\n\u001b[1;32m-> 3631\u001b[1;33m                 \u001b[1;32mraise\u001b[0m \u001b[0mKeyError\u001b[0m\u001b[1;33m(\u001b[0m\u001b[0mkey\u001b[0m\u001b[1;33m)\u001b[0m \u001b[1;32mfrom\u001b[0m \u001b[0merr\u001b[0m\u001b[1;33m\u001b[0m\u001b[1;33m\u001b[0m\u001b[0m\n\u001b[0m\u001b[0;32m   3632\u001b[0m             \u001b[1;32mexcept\u001b[0m \u001b[0mTypeError\u001b[0m\u001b[1;33m:\u001b[0m\u001b[1;33m\u001b[0m\u001b[1;33m\u001b[0m\u001b[0m\n\u001b[0;32m   3633\u001b[0m                 \u001b[1;31m# If we have a listlike key, _check_indexing_error will raise\u001b[0m\u001b[1;33m\u001b[0m\u001b[1;33m\u001b[0m\u001b[0m\n",
      "\u001b[1;31mKeyError\u001b[0m: 'track_popularity '"
     ]
    }
   ],
   "source": [
    "Summery = {\n",
    "    \"Max\": df[\"track_popularity\"].max(),\n",
    "    \"Q1\": df[\"track_popularity\"].quantile(0.75),\n",
    "    \"median\": df[\"track_popularity \"].median(),\n",
    "    \n",
    "}"
   ]
  },
  {
   "cell_type": "code",
   "execution_count": 75,
   "id": "923c3377",
   "metadata": {},
   "outputs": [],
   "source": [
    "# distubution of popularity\n",
    "## the shape of our popularity distribution is close to a symetric, normal, bell curve.\n",
    "## However, there is a lot of data collected in our "
   ]
  },
  {
   "cell_type": "code",
   "execution_count": 76,
   "id": "89c6fa65",
   "metadata": {},
   "outputs": [],
   "source": [
    "def avg(col):\n",
    "    average = col.mean()\n",
    "    return average"
   ]
  },
  {
   "cell_type": "code",
   "execution_count": 77,
   "id": "ce926f88",
   "metadata": {},
   "outputs": [
    {
     "data": {
      "text/plain": [
       "120.88113154448297"
      ]
     },
     "execution_count": 77,
     "metadata": {},
     "output_type": "execute_result"
    }
   ],
   "source": [
    "avg(df[\"tempo\"])"
   ]
  },
  {
   "cell_type": "code",
   "execution_count": 78,
   "id": "f35859a5",
   "metadata": {},
   "outputs": [
    {
     "data": {
      "text/plain": [
       "<AxesSubplot:xlabel='danceability', ylabel='Count'>"
      ]
     },
     "execution_count": 78,
     "metadata": {},
     "output_type": "execute_result"
    },
    {
     "data": {
      "image/png": "[encoded data removed]",
      "text/plain": [
       "<Figure size 640x480 with 1 Axes>"
      ]
     },
     "metadata": {},
     "output_type": "display_data"
    }
   ],
   "source": [
    "sns.histplot(data=df, x= \"danceability\", bins=50)"
   ]
  },
  {
   "cell_type": "code",
   "execution_count": 79,
   "id": "c75cba34",
   "metadata": {},
   "outputs": [
    {
     "data": {
      "text/plain": [
       "0.6548495202996926"
      ]
     },
     "execution_count": 79,
     "metadata": {},
     "output_type": "execute_result"
    }
   ],
   "source": [
    "avg(df[\"danceability\"])"
   ]
  },
  {
   "cell_type": "code",
   "execution_count": 80,
   "id": "fbe68617",
   "metadata": {},
   "outputs": [
    {
     "data": {
      "text/plain": [
       "0.14508532044765107"
      ]
     },
     "execution_count": 80,
     "metadata": {},
     "output_type": "execute_result"
    }
   ],
   "source": [
    "def standard_deviation(column):\n",
    "    std = df[column].std()\n",
    "    return std\n",
    "standard_deviation(\"danceability\")"
   ]
  },
  {
   "cell_type": "code",
   "execution_count": 81,
   "id": "df6d861f",
   "metadata": {},
   "outputs": [
    {
     "name": "stdout",
     "output_type": "stream",
     "text": [
      "12.909944487358056\n"
     ]
    }
   ],
   "source": [
    "import pandas as pd\n",
    "\n",
    "# Define the function\n",
    "def standard_deviation(column):\n",
    "    # Ensure the column is numeric before calculating std\n",
    "    if pd.api.types.is_numeric_dtype(column):\n",
    "        std = column.std()\n",
    "        return std\n",
    "    else:\n",
    "        raise ValueError(\"The column is not numeric.\")\n",
    "\n",
    "# Example usage with a DataFrame\n",
    "data = {'track_name': ['Song1', 'Song2', 'Song3', 'Song4'], 'bpm': [120, 130, 140, 150]}\n",
    "df = pd.DataFrame(data)\n",
    "\n",
    "# Compute standard deviation of the 'bpm' column\n",
    "std_bpm = standard_deviation(df['bpm'])\n",
    "print(std_bpm)\n"
   ]
  },
  {
   "cell_type": "raw",
   "id": "7a933d42",
   "metadata": {},
   "source": [
    "What song is the loudest in the date set"
   ]
  },
  {
   "cell_type": "code",
   "execution_count": 91,
   "id": "8fbf60a3",
   "metadata": {},
   "outputs": [
    {
     "ename": "ValueError",
     "evalue": "Could not interpret value `loudness` for parameter `x`",
     "output_type": "error",
     "traceback": [
      "\u001b[1;31m---------------------------------------------------------------------------\u001b[0m",
      "\u001b[1;31mValueError\u001b[0m                                Traceback (most recent call last)",
      "\u001b[1;32m~\\AppData\\Local\\Temp\\ipykernel_18316\\708938101.py\u001b[0m in \u001b[0;36m<module>\u001b[1;34m\u001b[0m\n\u001b[1;32m----> 1\u001b[1;33m \u001b[0msns\u001b[0m\u001b[1;33m.\u001b[0m\u001b[0mhistplot\u001b[0m\u001b[1;33m(\u001b[0m\u001b[0mdata\u001b[0m\u001b[1;33m=\u001b[0m\u001b[0mdf\u001b[0m\u001b[1;33m,\u001b[0m \u001b[0mx\u001b[0m\u001b[1;33m=\u001b[0m \u001b[1;34m\"loudness\"\u001b[0m\u001b[1;33m,\u001b[0m \u001b[0mbins\u001b[0m\u001b[1;33m=\u001b[0m\u001b[1;36m50\u001b[0m\u001b[1;33m)\u001b[0m\u001b[1;33m\u001b[0m\u001b[1;33m\u001b[0m\u001b[0m\n\u001b[0m",
      "\u001b[1;32mC:\\ProgramData\\Anaconda3\\lib\\site-packages\\seaborn\\distributions.py\u001b[0m in \u001b[0;36mhistplot\u001b[1;34m(data, x, y, hue, weights, stat, bins, binwidth, binrange, discrete, cumulative, common_bins, common_norm, multiple, element, fill, shrink, kde, kde_kws, line_kws, thresh, pthresh, pmax, cbar, cbar_ax, cbar_kws, palette, hue_order, hue_norm, color, log_scale, legend, ax, **kwargs)\u001b[0m\n\u001b[0;32m   1428\u001b[0m ):\n\u001b[0;32m   1429\u001b[0m \u001b[1;33m\u001b[0m\u001b[0m\n\u001b[1;32m-> 1430\u001b[1;33m     p = _DistributionPlotter(\n\u001b[0m\u001b[0;32m   1431\u001b[0m         \u001b[0mdata\u001b[0m\u001b[1;33m=\u001b[0m\u001b[0mdata\u001b[0m\u001b[1;33m,\u001b[0m\u001b[1;33m\u001b[0m\u001b[1;33m\u001b[0m\u001b[0m\n\u001b[0;32m   1432\u001b[0m         \u001b[0mvariables\u001b[0m\u001b[1;33m=\u001b[0m\u001b[0m_DistributionPlotter\u001b[0m\u001b[1;33m.\u001b[0m\u001b[0mget_semantics\u001b[0m\u001b[1;33m(\u001b[0m\u001b[0mlocals\u001b[0m\u001b[1;33m(\u001b[0m\u001b[1;33m)\u001b[0m\u001b[1;33m)\u001b[0m\u001b[1;33m\u001b[0m\u001b[1;33m\u001b[0m\u001b[0m\n",
      "\u001b[1;32mC:\\ProgramData\\Anaconda3\\lib\\site-packages\\seaborn\\distributions.py\u001b[0m in \u001b[0;36m__init__\u001b[1;34m(self, data, variables)\u001b[0m\n\u001b[0;32m    109\u001b[0m     ):\n\u001b[0;32m    110\u001b[0m \u001b[1;33m\u001b[0m\u001b[0m\n\u001b[1;32m--> 111\u001b[1;33m         \u001b[0msuper\u001b[0m\u001b[1;33m(\u001b[0m\u001b[1;33m)\u001b[0m\u001b[1;33m.\u001b[0m\u001b[0m__init__\u001b[0m\u001b[1;33m(\u001b[0m\u001b[0mdata\u001b[0m\u001b[1;33m=\u001b[0m\u001b[0mdata\u001b[0m\u001b[1;33m,\u001b[0m \u001b[0mvariables\u001b[0m\u001b[1;33m=\u001b[0m\u001b[0mvariables\u001b[0m\u001b[1;33m)\u001b[0m\u001b[1;33m\u001b[0m\u001b[1;33m\u001b[0m\u001b[0m\n\u001b[0m\u001b[0;32m    112\u001b[0m \u001b[1;33m\u001b[0m\u001b[0m\n\u001b[0;32m    113\u001b[0m     \u001b[1;33m@\u001b[0m\u001b[0mproperty\u001b[0m\u001b[1;33m\u001b[0m\u001b[1;33m\u001b[0m\u001b[0m\n",
      "\u001b[1;32mC:\\ProgramData\\Anaconda3\\lib\\site-packages\\seaborn\\_core.py\u001b[0m in \u001b[0;36m__init__\u001b[1;34m(self, data, variables)\u001b[0m\n\u001b[0;32m    603\u001b[0m     \u001b[1;32mdef\u001b[0m \u001b[0m__init__\u001b[0m\u001b[1;33m(\u001b[0m\u001b[0mself\u001b[0m\u001b[1;33m,\u001b[0m \u001b[0mdata\u001b[0m\u001b[1;33m=\u001b[0m\u001b[1;32mNone\u001b[0m\u001b[1;33m,\u001b[0m \u001b[0mvariables\u001b[0m\u001b[1;33m=\u001b[0m\u001b[1;33m{\u001b[0m\u001b[1;33m}\u001b[0m\u001b[1;33m)\u001b[0m\u001b[1;33m:\u001b[0m\u001b[1;33m\u001b[0m\u001b[1;33m\u001b[0m\u001b[0m\n\u001b[0;32m    604\u001b[0m \u001b[1;33m\u001b[0m\u001b[0m\n\u001b[1;32m--> 605\u001b[1;33m         \u001b[0mself\u001b[0m\u001b[1;33m.\u001b[0m\u001b[0massign_variables\u001b[0m\u001b[1;33m(\u001b[0m\u001b[0mdata\u001b[0m\u001b[1;33m,\u001b[0m \u001b[0mvariables\u001b[0m\u001b[1;33m)\u001b[0m\u001b[1;33m\u001b[0m\u001b[1;33m\u001b[0m\u001b[0m\n\u001b[0m\u001b[0;32m    606\u001b[0m \u001b[1;33m\u001b[0m\u001b[0m\n\u001b[0;32m    607\u001b[0m         \u001b[1;32mfor\u001b[0m \u001b[0mvar\u001b[0m\u001b[1;33m,\u001b[0m \u001b[0mcls\u001b[0m \u001b[1;32min\u001b[0m \u001b[0mself\u001b[0m\u001b[1;33m.\u001b[0m\u001b[0m_semantic_mappings\u001b[0m\u001b[1;33m.\u001b[0m\u001b[0mitems\u001b[0m\u001b[1;33m(\u001b[0m\u001b[1;33m)\u001b[0m\u001b[1;33m:\u001b[0m\u001b[1;33m\u001b[0m\u001b[1;33m\u001b[0m\u001b[0m\n",
      "\u001b[1;32mC:\\ProgramData\\Anaconda3\\lib\\site-packages\\seaborn\\_core.py\u001b[0m in \u001b[0;36massign_variables\u001b[1;34m(self, data, variables)\u001b[0m\n\u001b[0;32m    666\u001b[0m         \u001b[1;32melse\u001b[0m\u001b[1;33m:\u001b[0m\u001b[1;33m\u001b[0m\u001b[1;33m\u001b[0m\u001b[0m\n\u001b[0;32m    667\u001b[0m             \u001b[0mself\u001b[0m\u001b[1;33m.\u001b[0m\u001b[0minput_format\u001b[0m \u001b[1;33m=\u001b[0m \u001b[1;34m\"long\"\u001b[0m\u001b[1;33m\u001b[0m\u001b[1;33m\u001b[0m\u001b[0m\n\u001b[1;32m--> 668\u001b[1;33m             plot_data, variables = self._assign_variables_longform(\n\u001b[0m\u001b[0;32m    669\u001b[0m                 \u001b[0mdata\u001b[0m\u001b[1;33m,\u001b[0m \u001b[1;33m**\u001b[0m\u001b[0mvariables\u001b[0m\u001b[1;33m,\u001b[0m\u001b[1;33m\u001b[0m\u001b[1;33m\u001b[0m\u001b[0m\n\u001b[0;32m    670\u001b[0m             )\n",
      "\u001b[1;32mC:\\ProgramData\\Anaconda3\\lib\\site-packages\\seaborn\\_core.py\u001b[0m in \u001b[0;36m_assign_variables_longform\u001b[1;34m(self, data, **kwargs)\u001b[0m\n\u001b[0;32m    901\u001b[0m \u001b[1;33m\u001b[0m\u001b[0m\n\u001b[0;32m    902\u001b[0m                 \u001b[0merr\u001b[0m \u001b[1;33m=\u001b[0m \u001b[1;34mf\"Could not interpret value `{val}` for parameter `{key}`\"\u001b[0m\u001b[1;33m\u001b[0m\u001b[1;33m\u001b[0m\u001b[0m\n\u001b[1;32m--> 903\u001b[1;33m                 \u001b[1;32mraise\u001b[0m \u001b[0mValueError\u001b[0m\u001b[1;33m(\u001b[0m\u001b[0merr\u001b[0m\u001b[1;33m)\u001b[0m\u001b[1;33m\u001b[0m\u001b[1;33m\u001b[0m\u001b[0m\n\u001b[0m\u001b[0;32m    904\u001b[0m \u001b[1;33m\u001b[0m\u001b[0m\n\u001b[0;32m    905\u001b[0m             \u001b[1;32melse\u001b[0m\u001b[1;33m:\u001b[0m\u001b[1;33m\u001b[0m\u001b[1;33m\u001b[0m\u001b[0m\n",
      "\u001b[1;31mValueError\u001b[0m: Could not interpret value `loudness` for parameter `x`"
     ]
    }
   ],
   "source": [
    "c"
   ]
  },
  {
   "cell_type": "code",
   "execution_count": 92,
   "id": "f04155d7",
   "metadata": {},
   "outputs": [
    {
     "name": "stdout",
     "output_type": "stream",
     "text": [
      "Index(['track_name', 'bpm'], dtype='object')\n"
     ]
    }
   ],
   "source": [
    "print(df.columns)"
   ]
  },
  {
   "cell_type": "code",
   "execution_count": 90,
   "id": "7bcf162b",
   "metadata": {},
   "outputs": [
    {
     "name": "stdout",
     "output_type": "stream",
     "text": [
      "<class 'pandas.core.frame.DataFrame'>\n",
      "  track_name  bpm\n",
      "0      Song1  120\n",
      "1      Song2  130\n",
      "2      Song3  140\n",
      "3      Song4  150\n"
     ]
    }
   ],
   "source": [
    "print(type(df))\n",
    "print(df.head())"
   ]
  },
  {
   "cell_type": "code",
   "execution_count": 85,
   "id": "d7795a15",
   "metadata": {},
   "outputs": [
    {
     "ename": "KeyError",
     "evalue": "'loudness'",
     "output_type": "error",
     "traceback": [
      "\u001b[1;31m---------------------------------------------------------------------------\u001b[0m",
      "\u001b[1;31mKeyError\u001b[0m                                  Traceback (most recent call last)",
      "\u001b[1;32mC:\\ProgramData\\Anaconda3\\lib\\site-packages\\pandas\\core\\indexes\\base.py\u001b[0m in \u001b[0;36mget_loc\u001b[1;34m(self, key, method, tolerance)\u001b[0m\n\u001b[0;32m   3628\u001b[0m             \u001b[1;32mtry\u001b[0m\u001b[1;33m:\u001b[0m\u001b[1;33m\u001b[0m\u001b[1;33m\u001b[0m\u001b[0m\n\u001b[1;32m-> 3629\u001b[1;33m                 \u001b[1;32mreturn\u001b[0m \u001b[0mself\u001b[0m\u001b[1;33m.\u001b[0m\u001b[0m_engine\u001b[0m\u001b[1;33m.\u001b[0m\u001b[0mget_loc\u001b[0m\u001b[1;33m(\u001b[0m\u001b[0mcasted_key\u001b[0m\u001b[1;33m)\u001b[0m\u001b[1;33m\u001b[0m\u001b[1;33m\u001b[0m\u001b[0m\n\u001b[0m\u001b[0;32m   3630\u001b[0m             \u001b[1;32mexcept\u001b[0m \u001b[0mKeyError\u001b[0m \u001b[1;32mas\u001b[0m \u001b[0merr\u001b[0m\u001b[1;33m:\u001b[0m\u001b[1;33m\u001b[0m\u001b[1;33m\u001b[0m\u001b[0m\n",
      "\u001b[1;32mC:\\ProgramData\\Anaconda3\\lib\\site-packages\\pandas\\_libs\\index.pyx\u001b[0m in \u001b[0;36mpandas._libs.index.IndexEngine.get_loc\u001b[1;34m()\u001b[0m\n",
      "\u001b[1;32mC:\\ProgramData\\Anaconda3\\lib\\site-packages\\pandas\\_libs\\index.pyx\u001b[0m in \u001b[0;36mpandas._libs.index.IndexEngine.get_loc\u001b[1;34m()\u001b[0m\n",
      "\u001b[1;32mpandas\\_libs\\hashtable_class_helper.pxi\u001b[0m in \u001b[0;36mpandas._libs.hashtable.PyObjectHashTable.get_item\u001b[1;34m()\u001b[0m\n",
      "\u001b[1;32mpandas\\_libs\\hashtable_class_helper.pxi\u001b[0m in \u001b[0;36mpandas._libs.hashtable.PyObjectHashTable.get_item\u001b[1;34m()\u001b[0m\n",
      "\u001b[1;31mKeyError\u001b[0m: 'loudness'",
      "\nThe above exception was the direct cause of the following exception:\n",
      "\u001b[1;31mKeyError\u001b[0m                                  Traceback (most recent call last)",
      "\u001b[1;32m~\\AppData\\Local\\Temp\\ipykernel_18316\\1255227570.py\u001b[0m in \u001b[0;36m<module>\u001b[1;34m\u001b[0m\n\u001b[1;32m----> 1\u001b[1;33m \u001b[0mprint\u001b[0m\u001b[1;33m(\u001b[0m\u001b[0mdf\u001b[0m\u001b[1;33m[\u001b[0m\u001b[1;34m'loudness'\u001b[0m\u001b[1;33m]\u001b[0m\u001b[1;33m.\u001b[0m\u001b[0mdtype\u001b[0m\u001b[1;33m)\u001b[0m\u001b[1;33m\u001b[0m\u001b[1;33m\u001b[0m\u001b[0m\n\u001b[0m",
      "\u001b[1;32mC:\\ProgramData\\Anaconda3\\lib\\site-packages\\pandas\\core\\frame.py\u001b[0m in \u001b[0;36m__getitem__\u001b[1;34m(self, key)\u001b[0m\n\u001b[0;32m   3503\u001b[0m             \u001b[1;32mif\u001b[0m \u001b[0mself\u001b[0m\u001b[1;33m.\u001b[0m\u001b[0mcolumns\u001b[0m\u001b[1;33m.\u001b[0m\u001b[0mnlevels\u001b[0m \u001b[1;33m>\u001b[0m \u001b[1;36m1\u001b[0m\u001b[1;33m:\u001b[0m\u001b[1;33m\u001b[0m\u001b[1;33m\u001b[0m\u001b[0m\n\u001b[0;32m   3504\u001b[0m                 \u001b[1;32mreturn\u001b[0m \u001b[0mself\u001b[0m\u001b[1;33m.\u001b[0m\u001b[0m_getitem_multilevel\u001b[0m\u001b[1;33m(\u001b[0m\u001b[0mkey\u001b[0m\u001b[1;33m)\u001b[0m\u001b[1;33m\u001b[0m\u001b[1;33m\u001b[0m\u001b[0m\n\u001b[1;32m-> 3505\u001b[1;33m             \u001b[0mindexer\u001b[0m \u001b[1;33m=\u001b[0m \u001b[0mself\u001b[0m\u001b[1;33m.\u001b[0m\u001b[0mcolumns\u001b[0m\u001b[1;33m.\u001b[0m\u001b[0mget_loc\u001b[0m\u001b[1;33m(\u001b[0m\u001b[0mkey\u001b[0m\u001b[1;33m)\u001b[0m\u001b[1;33m\u001b[0m\u001b[1;33m\u001b[0m\u001b[0m\n\u001b[0m\u001b[0;32m   3506\u001b[0m             \u001b[1;32mif\u001b[0m \u001b[0mis_integer\u001b[0m\u001b[1;33m(\u001b[0m\u001b[0mindexer\u001b[0m\u001b[1;33m)\u001b[0m\u001b[1;33m:\u001b[0m\u001b[1;33m\u001b[0m\u001b[1;33m\u001b[0m\u001b[0m\n\u001b[0;32m   3507\u001b[0m                 \u001b[0mindexer\u001b[0m \u001b[1;33m=\u001b[0m \u001b[1;33m[\u001b[0m\u001b[0mindexer\u001b[0m\u001b[1;33m]\u001b[0m\u001b[1;33m\u001b[0m\u001b[1;33m\u001b[0m\u001b[0m\n",
      "\u001b[1;32mC:\\ProgramData\\Anaconda3\\lib\\site-packages\\pandas\\core\\indexes\\base.py\u001b[0m in \u001b[0;36mget_loc\u001b[1;34m(self, key, method, tolerance)\u001b[0m\n\u001b[0;32m   3629\u001b[0m                 \u001b[1;32mreturn\u001b[0m \u001b[0mself\u001b[0m\u001b[1;33m.\u001b[0m\u001b[0m_engine\u001b[0m\u001b[1;33m.\u001b[0m\u001b[0mget_loc\u001b[0m\u001b[1;33m(\u001b[0m\u001b[0mcasted_key\u001b[0m\u001b[1;33m)\u001b[0m\u001b[1;33m\u001b[0m\u001b[1;33m\u001b[0m\u001b[0m\n\u001b[0;32m   3630\u001b[0m             \u001b[1;32mexcept\u001b[0m \u001b[0mKeyError\u001b[0m \u001b[1;32mas\u001b[0m \u001b[0merr\u001b[0m\u001b[1;33m:\u001b[0m\u001b[1;33m\u001b[0m\u001b[1;33m\u001b[0m\u001b[0m\n\u001b[1;32m-> 3631\u001b[1;33m                 \u001b[1;32mraise\u001b[0m \u001b[0mKeyError\u001b[0m\u001b[1;33m(\u001b[0m\u001b[0mkey\u001b[0m\u001b[1;33m)\u001b[0m \u001b[1;32mfrom\u001b[0m \u001b[0merr\u001b[0m\u001b[1;33m\u001b[0m\u001b[1;33m\u001b[0m\u001b[0m\n\u001b[0m\u001b[0;32m   3632\u001b[0m             \u001b[1;32mexcept\u001b[0m \u001b[0mTypeError\u001b[0m\u001b[1;33m:\u001b[0m\u001b[1;33m\u001b[0m\u001b[1;33m\u001b[0m\u001b[0m\n\u001b[0;32m   3633\u001b[0m                 \u001b[1;31m# If we have a listlike key, _check_indexing_error will raise\u001b[0m\u001b[1;33m\u001b[0m\u001b[1;33m\u001b[0m\u001b[0m\n",
      "\u001b[1;31mKeyError\u001b[0m: 'loudness'"
     ]
    }
   ],
   "source": [
    "print(df['loudness'].dtype)"
   ]
  },
  {
   "cell_type": "code",
   "execution_count": 93,
   "id": "8a3a715f",
   "metadata": {},
   "outputs": [
    {
     "name": "stdout",
     "output_type": "stream",
     "text": [
      "<class 'pandas.core.frame.DataFrame'>\n",
      "RangeIndex: 32833 entries, 0 to 32832\n",
      "Data columns (total 23 columns):\n",
      " #   Column                    Non-Null Count  Dtype  \n",
      "---  ------                    --------------  -----  \n",
      " 0   track_id                  32833 non-null  object \n",
      " 1   track_name                32828 non-null  object \n",
      " 2   track_artist              32828 non-null  object \n",
      " 3   track_popularity          32833 non-null  int64  \n",
      " 4   track_album_id            32833 non-null  object \n",
      " 5   track_album_name          32828 non-null  object \n",
      " 6   track_album_release_date  32833 non-null  object \n",
      " 7   playlist_name             32833 non-null  object \n",
      " 8   playlist_id               32833 non-null  object \n",
      " 9   playlist_genre            32833 non-null  object \n",
      " 10  playlist_subgenre         32833 non-null  object \n",
      " 11  danceability              32833 non-null  float64\n",
      " 12  energy                    32833 non-null  float64\n",
      " 13  key                       32833 non-null  int64  \n",
      " 14  loudness                  32833 non-null  float64\n",
      " 15  mode                      32833 non-null  int64  \n",
      " 16  speechiness               32833 non-null  float64\n",
      " 17  acousticness              32833 non-null  float64\n",
      " 18  instrumentalness          32833 non-null  float64\n",
      " 19  liveness                  32833 non-null  float64\n",
      " 20  valence                   32833 non-null  float64\n",
      " 21  tempo                     32833 non-null  float64\n",
      " 22  duration_ms               32833 non-null  int64  \n",
      "dtypes: float64(9), int64(4), object(10)\n",
      "memory usage: 5.8+ MB\n"
     ]
    }
   ],
   "source": [
    "df = pd.read_csv(\"spotify_songs.csv\")\n",
    "df.info()"
   ]
  },
  {
   "cell_type": "code",
   "execution_count": 94,
   "id": "e08c7b43",
   "metadata": {},
   "outputs": [
    {
     "data": {
      "text/plain": [
       "<AxesSubplot:xlabel='loudness', ylabel='Count'>"
      ]
     },
     "execution_count": 94,
     "metadata": {},
     "output_type": "execute_result"
    },
    {
     "data": {
      "image/png": "[encoded data removed]",
      "text/plain": [
       "<Figure size 640x480 with 1 Axes>"
      ]
     },
     "metadata": {},
     "output_type": "display_data"
    }
   ],
   "source": [
    "sns.histplot(data=df, x= \"loudness\", bins=50)"
   ]
  },
  {
   "cell_type": "code",
   "execution_count": 95,
   "id": "1b51f2ae",
   "metadata": {},
   "outputs": [
    {
     "data": {
      "text/html": [
       "<div>\n",
       "<style scoped>\n",
       "    .dataframe tbody tr th:only-of-type {\n",
       "        vertical-align: middle;\n",
       "    }\n",
       "\n",
       "    .dataframe tbody tr th {\n",
       "        vertical-align: top;\n",
       "    }\n",
       "\n",
       "    .dataframe thead th {\n",
       "        text-align: right;\n",
       "    }\n",
       "</style>\n",
       "<table border=\"1\" class=\"dataframe\">\n",
       "  <thead>\n",
       "    <tr style=\"text-align: right;\">\n",
       "      <th></th>\n",
       "      <th>track_id</th>\n",
       "      <th>track_name</th>\n",
       "      <th>track_artist</th>\n",
       "      <th>track_popularity</th>\n",
       "      <th>track_album_id</th>\n",
       "      <th>track_album_name</th>\n",
       "      <th>track_album_release_date</th>\n",
       "      <th>playlist_name</th>\n",
       "      <th>playlist_id</th>\n",
       "      <th>playlist_genre</th>\n",
       "      <th>...</th>\n",
       "      <th>key</th>\n",
       "      <th>loudness</th>\n",
       "      <th>mode</th>\n",
       "      <th>speechiness</th>\n",
       "      <th>acousticness</th>\n",
       "      <th>instrumentalness</th>\n",
       "      <th>liveness</th>\n",
       "      <th>valence</th>\n",
       "      <th>tempo</th>\n",
       "      <th>duration_ms</th>\n",
       "    </tr>\n",
       "  </thead>\n",
       "  <tbody>\n",
       "    <tr>\n",
       "      <th>623</th>\n",
       "      <td>3g1MMelMBxLjtKwcIVFe0N</td>\n",
       "      <td>Dance Monkey</td>\n",
       "      <td>Skylike</td>\n",
       "      <td>63</td>\n",
       "      <td>2iU9q30hhHCSN6Anlj3E5K</td>\n",
       "      <td>Dance Monkey</td>\n",
       "      <td>2019-09-06</td>\n",
       "      <td>Pop / Dance</td>\n",
       "      <td>6mXh8CUBMBsBUu88a4eAQV</td>\n",
       "      <td>pop</td>\n",
       "      <td>...</td>\n",
       "      <td>8</td>\n",
       "      <td>-4.853</td>\n",
       "      <td>0</td>\n",
       "      <td>0.2320</td>\n",
       "      <td>0.327</td>\n",
       "      <td>0.000248</td>\n",
       "      <td>0.2470</td>\n",
       "      <td>0.311</td>\n",
       "      <td>118.112</td>\n",
       "      <td>192203</td>\n",
       "    </tr>\n",
       "    <tr>\n",
       "      <th>922</th>\n",
       "      <td>5ZULALImTm80tzUbYQYM9d</td>\n",
       "      <td>Dance Monkey</td>\n",
       "      <td>Tones and I</td>\n",
       "      <td>92</td>\n",
       "      <td>2pJXQvY0YeDvVJ9gMU9G7j</td>\n",
       "      <td>The Kids Are Coming</td>\n",
       "      <td>2019-08-29</td>\n",
       "      <td>Pop Dance Hits</td>\n",
       "      <td>7eERKCkgNKCCx5GYdeMIZf</td>\n",
       "      <td>pop</td>\n",
       "      <td>...</td>\n",
       "      <td>6</td>\n",
       "      <td>-6.400</td>\n",
       "      <td>0</td>\n",
       "      <td>0.0924</td>\n",
       "      <td>0.692</td>\n",
       "      <td>0.000104</td>\n",
       "      <td>0.1490</td>\n",
       "      <td>0.513</td>\n",
       "      <td>98.027</td>\n",
       "      <td>209438</td>\n",
       "    </tr>\n",
       "    <tr>\n",
       "      <th>1298</th>\n",
       "      <td>1rgnBhdG2JDFTbYkYRZAku</td>\n",
       "      <td>Dance Monkey</td>\n",
       "      <td>Tones and I</td>\n",
       "      <td>79</td>\n",
       "      <td>31IDBea3eEs57a0joX6TjN</td>\n",
       "      <td>Dance Monkey</td>\n",
       "      <td>2019-05-10</td>\n",
       "      <td>Pop - Pop UK - 2019 - Canadian Pop - 2019 - Pop</td>\n",
       "      <td>46Cl6dmeiylK6TRGXr7hHe</td>\n",
       "      <td>pop</td>\n",
       "      <td>...</td>\n",
       "      <td>6</td>\n",
       "      <td>-6.401</td>\n",
       "      <td>0</td>\n",
       "      <td>0.0988</td>\n",
       "      <td>0.688</td>\n",
       "      <td>0.000161</td>\n",
       "      <td>0.1700</td>\n",
       "      <td>0.540</td>\n",
       "      <td>98.078</td>\n",
       "      <td>209755</td>\n",
       "    </tr>\n",
       "    <tr>\n",
       "      <th>1349</th>\n",
       "      <td>421leiR6jKlH5KDdwLYrOs</td>\n",
       "      <td>Dance Monkey</td>\n",
       "      <td>Tones and I</td>\n",
       "      <td>43</td>\n",
       "      <td>5i6CS5XcLZGLgaNCKlJvc2</td>\n",
       "      <td>Dance Monkey</td>\n",
       "      <td>2019-05-10</td>\n",
       "      <td>Pop - Pop UK - 2019 - Canadian Pop - 2019 - Pop</td>\n",
       "      <td>46Cl6dmeiylK6TRGXr7hHe</td>\n",
       "      <td>pop</td>\n",
       "      <td>...</td>\n",
       "      <td>6</td>\n",
       "      <td>-6.400</td>\n",
       "      <td>0</td>\n",
       "      <td>0.0969</td>\n",
       "      <td>0.693</td>\n",
       "      <td>0.000158</td>\n",
       "      <td>0.1780</td>\n",
       "      <td>0.540</td>\n",
       "      <td>98.074</td>\n",
       "      <td>209755</td>\n",
       "    </tr>\n",
       "    <tr>\n",
       "      <th>1551</th>\n",
       "      <td>2XU0oxnq2qxCpomAAuJY8K</td>\n",
       "      <td>Dance Monkey</td>\n",
       "      <td>Tones and I</td>\n",
       "      <td>100</td>\n",
       "      <td>0UywfDKYlyiu1b38DRrzYD</td>\n",
       "      <td>Dance Monkey (Stripped Back) / Dance Monkey</td>\n",
       "      <td>2019-10-17</td>\n",
       "      <td>post-teen alternative, indie, pop (large variety)</td>\n",
       "      <td>1y42gwI5cuwjBslPyQNfqb</td>\n",
       "      <td>pop</td>\n",
       "      <td>...</td>\n",
       "      <td>6</td>\n",
       "      <td>-6.400</td>\n",
       "      <td>0</td>\n",
       "      <td>0.0924</td>\n",
       "      <td>0.692</td>\n",
       "      <td>0.000104</td>\n",
       "      <td>0.1490</td>\n",
       "      <td>0.513</td>\n",
       "      <td>98.027</td>\n",
       "      <td>209438</td>\n",
       "    </tr>\n",
       "    <tr>\n",
       "      <th>4699</th>\n",
       "      <td>421leiR6jKlH5KDdwLYrOs</td>\n",
       "      <td>Dance Monkey</td>\n",
       "      <td>Tones and I</td>\n",
       "      <td>43</td>\n",
       "      <td>5i6CS5XcLZGLgaNCKlJvc2</td>\n",
       "      <td>Dance Monkey</td>\n",
       "      <td>2019-05-10</td>\n",
       "      <td>indie poptimism🕺🏻</td>\n",
       "      <td>6MQeEHHDs6HQkN5Dlj3oKo</td>\n",
       "      <td>pop</td>\n",
       "      <td>...</td>\n",
       "      <td>6</td>\n",
       "      <td>-6.400</td>\n",
       "      <td>0</td>\n",
       "      <td>0.0969</td>\n",
       "      <td>0.693</td>\n",
       "      <td>0.000158</td>\n",
       "      <td>0.1780</td>\n",
       "      <td>0.540</td>\n",
       "      <td>98.074</td>\n",
       "      <td>209755</td>\n",
       "    </tr>\n",
       "    <tr>\n",
       "      <th>10348</th>\n",
       "      <td>1LCG7BBh96DUUV6MuQhFad</td>\n",
       "      <td>Dance Monkey</td>\n",
       "      <td>Coopex</td>\n",
       "      <td>57</td>\n",
       "      <td>4bMaWB6yZh1ulaxHqRKh6Q</td>\n",
       "      <td>Dance Monkey</td>\n",
       "      <td>2019-12-23</td>\n",
       "      <td>Trap Nation</td>\n",
       "      <td>0NCspsyf0OS4BsPgGhkQXM</td>\n",
       "      <td>rap</td>\n",
       "      <td>...</td>\n",
       "      <td>6</td>\n",
       "      <td>-6.150</td>\n",
       "      <td>0</td>\n",
       "      <td>0.0817</td>\n",
       "      <td>0.106</td>\n",
       "      <td>0.000000</td>\n",
       "      <td>0.0862</td>\n",
       "      <td>0.236</td>\n",
       "      <td>98.111</td>\n",
       "      <td>194707</td>\n",
       "    </tr>\n",
       "    <tr>\n",
       "      <th>17088</th>\n",
       "      <td>0y3elN0Dm4b0bYQEQgTatE</td>\n",
       "      <td>Dance Monkey</td>\n",
       "      <td>Yann Muller</td>\n",
       "      <td>53</td>\n",
       "      <td>2aG4dcRRkElx1GhVq0Tfvb</td>\n",
       "      <td>Dance Monkey</td>\n",
       "      <td>2019-12-20</td>\n",
       "      <td>Tropical House Remixes 🍍 Tropical Remixes &amp; Tr...</td>\n",
       "      <td>3YdAwfgQLMS4AN2WjRfRlb</td>\n",
       "      <td>latin</td>\n",
       "      <td>...</td>\n",
       "      <td>6</td>\n",
       "      <td>-5.202</td>\n",
       "      <td>0</td>\n",
       "      <td>0.0981</td>\n",
       "      <td>0.267</td>\n",
       "      <td>0.001110</td>\n",
       "      <td>0.0818</td>\n",
       "      <td>0.649</td>\n",
       "      <td>105.072</td>\n",
       "      <td>161346</td>\n",
       "    </tr>\n",
       "    <tr>\n",
       "      <th>18312</th>\n",
       "      <td>5ZULALImTm80tzUbYQYM9d</td>\n",
       "      <td>Dance Monkey</td>\n",
       "      <td>Tones and I</td>\n",
       "      <td>92</td>\n",
       "      <td>2pJXQvY0YeDvVJ9gMU9G7j</td>\n",
       "      <td>The Kids Are Coming</td>\n",
       "      <td>2019-08-29</td>\n",
       "      <td>2020 Hits &amp; 2019  Hits – Top Global Tracks 🔥🔥🔥</td>\n",
       "      <td>4JkkvMpVl4lSioqQjeAL0q</td>\n",
       "      <td>latin</td>\n",
       "      <td>...</td>\n",
       "      <td>6</td>\n",
       "      <td>-6.400</td>\n",
       "      <td>0</td>\n",
       "      <td>0.0924</td>\n",
       "      <td>0.692</td>\n",
       "      <td>0.000104</td>\n",
       "      <td>0.1490</td>\n",
       "      <td>0.513</td>\n",
       "      <td>98.027</td>\n",
       "      <td>209438</td>\n",
       "    </tr>\n",
       "    <tr>\n",
       "      <th>19262</th>\n",
       "      <td>421leiR6jKlH5KDdwLYrOs</td>\n",
       "      <td>Dance Monkey</td>\n",
       "      <td>Tones and I</td>\n",
       "      <td>43</td>\n",
       "      <td>5i6CS5XcLZGLgaNCKlJvc2</td>\n",
       "      <td>Dance Monkey</td>\n",
       "      <td>2019-05-10</td>\n",
       "      <td>Verano Forever</td>\n",
       "      <td>37i9dQZF1DXdnGF35OawbN</td>\n",
       "      <td>latin</td>\n",
       "      <td>...</td>\n",
       "      <td>6</td>\n",
       "      <td>-6.400</td>\n",
       "      <td>0</td>\n",
       "      <td>0.0969</td>\n",
       "      <td>0.693</td>\n",
       "      <td>0.000158</td>\n",
       "      <td>0.1780</td>\n",
       "      <td>0.540</td>\n",
       "      <td>98.074</td>\n",
       "      <td>209755</td>\n",
       "    </tr>\n",
       "    <tr>\n",
       "      <th>19720</th>\n",
       "      <td>5ZULALImTm80tzUbYQYM9d</td>\n",
       "      <td>Dance Monkey</td>\n",
       "      <td>Tones and I</td>\n",
       "      <td>92</td>\n",
       "      <td>2pJXQvY0YeDvVJ9gMU9G7j</td>\n",
       "      <td>The Kids Are Coming</td>\n",
       "      <td>2019-08-29</td>\n",
       "      <td>2020 Hits &amp; 2019  Hits – Top Global Tracks 🔥🔥🔥</td>\n",
       "      <td>4JkkvMpVl4lSioqQjeAL0q</td>\n",
       "      <td>latin</td>\n",
       "      <td>...</td>\n",
       "      <td>6</td>\n",
       "      <td>-6.400</td>\n",
       "      <td>0</td>\n",
       "      <td>0.0924</td>\n",
       "      <td>0.692</td>\n",
       "      <td>0.000104</td>\n",
       "      <td>0.1490</td>\n",
       "      <td>0.513</td>\n",
       "      <td>98.027</td>\n",
       "      <td>209438</td>\n",
       "    </tr>\n",
       "    <tr>\n",
       "      <th>20091</th>\n",
       "      <td>2XU0oxnq2qxCpomAAuJY8K</td>\n",
       "      <td>Dance Monkey</td>\n",
       "      <td>Tones and I</td>\n",
       "      <td>100</td>\n",
       "      <td>0UywfDKYlyiu1b38DRrzYD</td>\n",
       "      <td>Dance Monkey (Stripped Back) / Dance Monkey</td>\n",
       "      <td>2019-10-17</td>\n",
       "      <td>Global Top 50 | 2020 Hits</td>\n",
       "      <td>1KNl4AYfgZtOVm9KHkhPTF</td>\n",
       "      <td>latin</td>\n",
       "      <td>...</td>\n",
       "      <td>6</td>\n",
       "      <td>-6.400</td>\n",
       "      <td>0</td>\n",
       "      <td>0.0924</td>\n",
       "      <td>0.692</td>\n",
       "      <td>0.000104</td>\n",
       "      <td>0.1490</td>\n",
       "      <td>0.513</td>\n",
       "      <td>98.027</td>\n",
       "      <td>209438</td>\n",
       "    </tr>\n",
       "    <tr>\n",
       "      <th>23099</th>\n",
       "      <td>1rgnBhdG2JDFTbYkYRZAku</td>\n",
       "      <td>Dance Monkey</td>\n",
       "      <td>Tones and I</td>\n",
       "      <td>79</td>\n",
       "      <td>31IDBea3eEs57a0joX6TjN</td>\n",
       "      <td>Dance Monkey</td>\n",
       "      <td>2019-05-10</td>\n",
       "      <td>Charts 2020 🔥Top 2020🔥Hits 2020🔥Summer 2020🔥Po...</td>\n",
       "      <td>3xMQTDLOIGvj3lWH5e5x6F</td>\n",
       "      <td>r&amp;b</td>\n",
       "      <td>...</td>\n",
       "      <td>6</td>\n",
       "      <td>-6.401</td>\n",
       "      <td>0</td>\n",
       "      <td>0.0988</td>\n",
       "      <td>0.688</td>\n",
       "      <td>0.000161</td>\n",
       "      <td>0.1700</td>\n",
       "      <td>0.540</td>\n",
       "      <td>98.078</td>\n",
       "      <td>209755</td>\n",
       "    </tr>\n",
       "    <tr>\n",
       "      <th>23120</th>\n",
       "      <td>1LCG7BBh96DUUV6MuQhFad</td>\n",
       "      <td>Dance Monkey</td>\n",
       "      <td>Coopex</td>\n",
       "      <td>57</td>\n",
       "      <td>4bMaWB6yZh1ulaxHqRKh6Q</td>\n",
       "      <td>Dance Monkey</td>\n",
       "      <td>2019-12-23</td>\n",
       "      <td>Charts 2020 🔥Top 2020🔥Hits 2020🔥Summer 2020🔥Po...</td>\n",
       "      <td>3xMQTDLOIGvj3lWH5e5x6F</td>\n",
       "      <td>r&amp;b</td>\n",
       "      <td>...</td>\n",
       "      <td>6</td>\n",
       "      <td>-6.150</td>\n",
       "      <td>0</td>\n",
       "      <td>0.0817</td>\n",
       "      <td>0.106</td>\n",
       "      <td>0.000000</td>\n",
       "      <td>0.0862</td>\n",
       "      <td>0.236</td>\n",
       "      <td>98.111</td>\n",
       "      <td>194707</td>\n",
       "    </tr>\n",
       "    <tr>\n",
       "      <th>23757</th>\n",
       "      <td>5ZULALImTm80tzUbYQYM9d</td>\n",
       "      <td>Dance Monkey</td>\n",
       "      <td>Tones and I</td>\n",
       "      <td>92</td>\n",
       "      <td>2pJXQvY0YeDvVJ9gMU9G7j</td>\n",
       "      <td>The Kids Are Coming</td>\n",
       "      <td>2019-08-29</td>\n",
       "      <td>2020 Hits &amp; 2019  Hits – Top Global Tracks 🔥🔥🔥</td>\n",
       "      <td>4JkkvMpVl4lSioqQjeAL0q</td>\n",
       "      <td>r&amp;b</td>\n",
       "      <td>...</td>\n",
       "      <td>6</td>\n",
       "      <td>-6.400</td>\n",
       "      <td>0</td>\n",
       "      <td>0.0924</td>\n",
       "      <td>0.692</td>\n",
       "      <td>0.000104</td>\n",
       "      <td>0.1490</td>\n",
       "      <td>0.513</td>\n",
       "      <td>98.027</td>\n",
       "      <td>209438</td>\n",
       "    </tr>\n",
       "    <tr>\n",
       "      <th>27752</th>\n",
       "      <td>3g1MMelMBxLjtKwcIVFe0N</td>\n",
       "      <td>Dance Monkey</td>\n",
       "      <td>Skylike</td>\n",
       "      <td>63</td>\n",
       "      <td>2iU9q30hhHCSN6Anlj3E5K</td>\n",
       "      <td>Dance Monkey</td>\n",
       "      <td>2019-09-06</td>\n",
       "      <td>Crossfit‏‏​​   ‍</td>\n",
       "      <td>5GiPRvTccToqwOzkoAcDrY</td>\n",
       "      <td>edm</td>\n",
       "      <td>...</td>\n",
       "      <td>8</td>\n",
       "      <td>-4.853</td>\n",
       "      <td>0</td>\n",
       "      <td>0.2320</td>\n",
       "      <td>0.327</td>\n",
       "      <td>0.000248</td>\n",
       "      <td>0.2470</td>\n",
       "      <td>0.311</td>\n",
       "      <td>118.112</td>\n",
       "      <td>192203</td>\n",
       "    </tr>\n",
       "    <tr>\n",
       "      <th>30196</th>\n",
       "      <td>1rgnBhdG2JDFTbYkYRZAku</td>\n",
       "      <td>Dance Monkey</td>\n",
       "      <td>Tones and I</td>\n",
       "      <td>79</td>\n",
       "      <td>31IDBea3eEs57a0joX6TjN</td>\n",
       "      <td>Dance Monkey</td>\n",
       "      <td>2019-05-10</td>\n",
       "      <td>Charts 2020 🔥Top 2020🔥Hits 2020🔥Summer 2020🔥Po...</td>\n",
       "      <td>3xMQTDLOIGvj3lWH5e5x6F</td>\n",
       "      <td>edm</td>\n",
       "      <td>...</td>\n",
       "      <td>6</td>\n",
       "      <td>-6.401</td>\n",
       "      <td>0</td>\n",
       "      <td>0.0988</td>\n",
       "      <td>0.688</td>\n",
       "      <td>0.000161</td>\n",
       "      <td>0.1700</td>\n",
       "      <td>0.540</td>\n",
       "      <td>98.078</td>\n",
       "      <td>209755</td>\n",
       "    </tr>\n",
       "    <tr>\n",
       "      <th>30222</th>\n",
       "      <td>1LCG7BBh96DUUV6MuQhFad</td>\n",
       "      <td>Dance Monkey</td>\n",
       "      <td>Coopex</td>\n",
       "      <td>57</td>\n",
       "      <td>4bMaWB6yZh1ulaxHqRKh6Q</td>\n",
       "      <td>Dance Monkey</td>\n",
       "      <td>2019-12-23</td>\n",
       "      <td>Charts 2020 🔥Top 2020🔥Hits 2020🔥Summer 2020🔥Po...</td>\n",
       "      <td>3xMQTDLOIGvj3lWH5e5x6F</td>\n",
       "      <td>edm</td>\n",
       "      <td>...</td>\n",
       "      <td>6</td>\n",
       "      <td>-6.150</td>\n",
       "      <td>0</td>\n",
       "      <td>0.0817</td>\n",
       "      <td>0.106</td>\n",
       "      <td>0.000000</td>\n",
       "      <td>0.0862</td>\n",
       "      <td>0.236</td>\n",
       "      <td>98.111</td>\n",
       "      <td>194707</td>\n",
       "    </tr>\n",
       "  </tbody>\n",
       "</table>\n",
       "<p>18 rows × 23 columns</p>\n",
       "</div>"
      ],
      "text/plain": [
       "                     track_id    track_name track_artist  track_popularity  \\\n",
       "623    3g1MMelMBxLjtKwcIVFe0N  Dance Monkey      Skylike                63   \n",
       "922    5ZULALImTm80tzUbYQYM9d  Dance Monkey  Tones and I                92   \n",
       "1298   1rgnBhdG2JDFTbYkYRZAku  Dance Monkey  Tones and I                79   \n",
       "1349   421leiR6jKlH5KDdwLYrOs  Dance Monkey  Tones and I                43   \n",
       "1551   2XU0oxnq2qxCpomAAuJY8K  Dance Monkey  Tones and I               100   \n",
       "4699   421leiR6jKlH5KDdwLYrOs  Dance Monkey  Tones and I                43   \n",
       "10348  1LCG7BBh96DUUV6MuQhFad  Dance Monkey       Coopex                57   \n",
       "17088  0y3elN0Dm4b0bYQEQgTatE  Dance Monkey  Yann Muller                53   \n",
       "18312  5ZULALImTm80tzUbYQYM9d  Dance Monkey  Tones and I                92   \n",
       "19262  421leiR6jKlH5KDdwLYrOs  Dance Monkey  Tones and I                43   \n",
       "19720  5ZULALImTm80tzUbYQYM9d  Dance Monkey  Tones and I                92   \n",
       "20091  2XU0oxnq2qxCpomAAuJY8K  Dance Monkey  Tones and I               100   \n",
       "23099  1rgnBhdG2JDFTbYkYRZAku  Dance Monkey  Tones and I                79   \n",
       "23120  1LCG7BBh96DUUV6MuQhFad  Dance Monkey       Coopex                57   \n",
       "23757  5ZULALImTm80tzUbYQYM9d  Dance Monkey  Tones and I                92   \n",
       "27752  3g1MMelMBxLjtKwcIVFe0N  Dance Monkey      Skylike                63   \n",
       "30196  1rgnBhdG2JDFTbYkYRZAku  Dance Monkey  Tones and I                79   \n",
       "30222  1LCG7BBh96DUUV6MuQhFad  Dance Monkey       Coopex                57   \n",
       "\n",
       "               track_album_id                             track_album_name  \\\n",
       "623    2iU9q30hhHCSN6Anlj3E5K                                 Dance Monkey   \n",
       "922    2pJXQvY0YeDvVJ9gMU9G7j                          The Kids Are Coming   \n",
       "1298   31IDBea3eEs57a0joX6TjN                                 Dance Monkey   \n",
       "1349   5i6CS5XcLZGLgaNCKlJvc2                                 Dance Monkey   \n",
       "1551   0UywfDKYlyiu1b38DRrzYD  Dance Monkey (Stripped Back) / Dance Monkey   \n",
       "4699   5i6CS5XcLZGLgaNCKlJvc2                                 Dance Monkey   \n",
       "10348  4bMaWB6yZh1ulaxHqRKh6Q                                 Dance Monkey   \n",
       "17088  2aG4dcRRkElx1GhVq0Tfvb                                 Dance Monkey   \n",
       "18312  2pJXQvY0YeDvVJ9gMU9G7j                          The Kids Are Coming   \n",
       "19262  5i6CS5XcLZGLgaNCKlJvc2                                 Dance Monkey   \n",
       "19720  2pJXQvY0YeDvVJ9gMU9G7j                          The Kids Are Coming   \n",
       "20091  0UywfDKYlyiu1b38DRrzYD  Dance Monkey (Stripped Back) / Dance Monkey   \n",
       "23099  31IDBea3eEs57a0joX6TjN                                 Dance Monkey   \n",
       "23120  4bMaWB6yZh1ulaxHqRKh6Q                                 Dance Monkey   \n",
       "23757  2pJXQvY0YeDvVJ9gMU9G7j                          The Kids Are Coming   \n",
       "27752  2iU9q30hhHCSN6Anlj3E5K                                 Dance Monkey   \n",
       "30196  31IDBea3eEs57a0joX6TjN                                 Dance Monkey   \n",
       "30222  4bMaWB6yZh1ulaxHqRKh6Q                                 Dance Monkey   \n",
       "\n",
       "      track_album_release_date  \\\n",
       "623                 2019-09-06   \n",
       "922                 2019-08-29   \n",
       "1298                2019-05-10   \n",
       "1349                2019-05-10   \n",
       "1551                2019-10-17   \n",
       "4699                2019-05-10   \n",
       "10348               2019-12-23   \n",
       "17088               2019-12-20   \n",
       "18312               2019-08-29   \n",
       "19262               2019-05-10   \n",
       "19720               2019-08-29   \n",
       "20091               2019-10-17   \n",
       "23099               2019-05-10   \n",
       "23120               2019-12-23   \n",
       "23757               2019-08-29   \n",
       "27752               2019-09-06   \n",
       "30196               2019-05-10   \n",
       "30222               2019-12-23   \n",
       "\n",
       "                                           playlist_name  \\\n",
       "623                                          Pop / Dance   \n",
       "922                                       Pop Dance Hits   \n",
       "1298     Pop - Pop UK - 2019 - Canadian Pop - 2019 - Pop   \n",
       "1349     Pop - Pop UK - 2019 - Canadian Pop - 2019 - Pop   \n",
       "1551   post-teen alternative, indie, pop (large variety)   \n",
       "4699                                   indie poptimism🕺🏻   \n",
       "10348                                        Trap Nation   \n",
       "17088  Tropical House Remixes 🍍 Tropical Remixes & Tr...   \n",
       "18312     2020 Hits & 2019  Hits – Top Global Tracks 🔥🔥🔥   \n",
       "19262                                     Verano Forever   \n",
       "19720     2020 Hits & 2019  Hits – Top Global Tracks 🔥🔥🔥   \n",
       "20091                          Global Top 50 | 2020 Hits   \n",
       "23099  Charts 2020 🔥Top 2020🔥Hits 2020🔥Summer 2020🔥Po...   \n",
       "23120  Charts 2020 🔥Top 2020🔥Hits 2020🔥Summer 2020🔥Po...   \n",
       "23757     2020 Hits & 2019  Hits – Top Global Tracks 🔥🔥🔥   \n",
       "27752                                   Crossfit‏‏​​   ‍   \n",
       "30196  Charts 2020 🔥Top 2020🔥Hits 2020🔥Summer 2020🔥Po...   \n",
       "30222  Charts 2020 🔥Top 2020🔥Hits 2020🔥Summer 2020🔥Po...   \n",
       "\n",
       "                  playlist_id playlist_genre  ... key  loudness  mode  \\\n",
       "623    6mXh8CUBMBsBUu88a4eAQV            pop  ...   8    -4.853     0   \n",
       "922    7eERKCkgNKCCx5GYdeMIZf            pop  ...   6    -6.400     0   \n",
       "1298   46Cl6dmeiylK6TRGXr7hHe            pop  ...   6    -6.401     0   \n",
       "1349   46Cl6dmeiylK6TRGXr7hHe            pop  ...   6    -6.400     0   \n",
       "1551   1y42gwI5cuwjBslPyQNfqb            pop  ...   6    -6.400     0   \n",
       "4699   6MQeEHHDs6HQkN5Dlj3oKo            pop  ...   6    -6.400     0   \n",
       "10348  0NCspsyf0OS4BsPgGhkQXM            rap  ...   6    -6.150     0   \n",
       "17088  3YdAwfgQLMS4AN2WjRfRlb          latin  ...   6    -5.202     0   \n",
       "18312  4JkkvMpVl4lSioqQjeAL0q          latin  ...   6    -6.400     0   \n",
       "19262  37i9dQZF1DXdnGF35OawbN          latin  ...   6    -6.400     0   \n",
       "19720  4JkkvMpVl4lSioqQjeAL0q          latin  ...   6    -6.400     0   \n",
       "20091  1KNl4AYfgZtOVm9KHkhPTF          latin  ...   6    -6.400     0   \n",
       "23099  3xMQTDLOIGvj3lWH5e5x6F            r&b  ...   6    -6.401     0   \n",
       "23120  3xMQTDLOIGvj3lWH5e5x6F            r&b  ...   6    -6.150     0   \n",
       "23757  4JkkvMpVl4lSioqQjeAL0q            r&b  ...   6    -6.400     0   \n",
       "27752  5GiPRvTccToqwOzkoAcDrY            edm  ...   8    -4.853     0   \n",
       "30196  3xMQTDLOIGvj3lWH5e5x6F            edm  ...   6    -6.401     0   \n",
       "30222  3xMQTDLOIGvj3lWH5e5x6F            edm  ...   6    -6.150     0   \n",
       "\n",
       "       speechiness  acousticness  instrumentalness  liveness  valence  \\\n",
       "623         0.2320         0.327          0.000248    0.2470    0.311   \n",
       "922         0.0924         0.692          0.000104    0.1490    0.513   \n",
       "1298        0.0988         0.688          0.000161    0.1700    0.540   \n",
       "1349        0.0969         0.693          0.000158    0.1780    0.540   \n",
       "1551        0.0924         0.692          0.000104    0.1490    0.513   \n",
       "4699        0.0969         0.693          0.000158    0.1780    0.540   \n",
       "10348       0.0817         0.106          0.000000    0.0862    0.236   \n",
       "17088       0.0981         0.267          0.001110    0.0818    0.649   \n",
       "18312       0.0924         0.692          0.000104    0.1490    0.513   \n",
       "19262       0.0969         0.693          0.000158    0.1780    0.540   \n",
       "19720       0.0924         0.692          0.000104    0.1490    0.513   \n",
       "20091       0.0924         0.692          0.000104    0.1490    0.513   \n",
       "23099       0.0988         0.688          0.000161    0.1700    0.540   \n",
       "23120       0.0817         0.106          0.000000    0.0862    0.236   \n",
       "23757       0.0924         0.692          0.000104    0.1490    0.513   \n",
       "27752       0.2320         0.327          0.000248    0.2470    0.311   \n",
       "30196       0.0988         0.688          0.000161    0.1700    0.540   \n",
       "30222       0.0817         0.106          0.000000    0.0862    0.236   \n",
       "\n",
       "         tempo  duration_ms  \n",
       "623    118.112       192203  \n",
       "922     98.027       209438  \n",
       "1298    98.078       209755  \n",
       "1349    98.074       209755  \n",
       "1551    98.027       209438  \n",
       "4699    98.074       209755  \n",
       "10348   98.111       194707  \n",
       "17088  105.072       161346  \n",
       "18312   98.027       209438  \n",
       "19262   98.074       209755  \n",
       "19720   98.027       209438  \n",
       "20091   98.027       209438  \n",
       "23099   98.078       209755  \n",
       "23120   98.111       194707  \n",
       "23757   98.027       209438  \n",
       "27752  118.112       192203  \n",
       "30196   98.078       209755  \n",
       "30222   98.111       194707  \n",
       "\n",
       "[18 rows x 23 columns]"
      ]
     },
     "execution_count": 95,
     "metadata": {},
     "output_type": "execute_result"
    }
   ],
   "source": [
    "df[df[\"track_name\"] == \"Dance Monkey\"]"
   ]
  },
  {
   "cell_type": "code",
   "execution_count": 96,
   "id": "dc4ab5d4",
   "metadata": {},
   "outputs": [
    {
     "data": {
      "text/plain": [
       "<AxesSubplot:xlabel='speechiness', ylabel='Count'>"
      ]
     },
     "execution_count": 96,
     "metadata": {},
     "output_type": "execute_result"
    },
    {
     "data": {
      "image/png": "[encoded data removed]",
      "text/plain": [
       "<Figure size 640x480 with 1 Axes>"
      ]
     },
     "metadata": {},
     "output_type": "display_data"
    }
   ],
   "source": [
    "sns.histplot(data=df, x=\"speechiness\", bins=50)"
   ]
  },
  {
   "cell_type": "code",
   "execution_count": 97,
   "id": "2bb5e7db",
   "metadata": {},
   "outputs": [
    {
     "data": {
      "text/plain": [
       "<AxesSubplot:xlabel='playlist_genre', ylabel='Count'>"
      ]
     },
     "execution_count": 97,
     "metadata": {},
     "output_type": "execute_result"
    },
    {
     "data": {
      "image/png": "[encoded data removed]",
      "text/plain": [
       "<Figure size 640x480 with 1 Axes>"
      ]
     },
     "metadata": {},
     "output_type": "display_data"
    }
   ],
   "source": [
    "sns.histplot(data=df, x=\"playlist_genre\", bins=50)"
   ]
  },
  {
   "cell_type": "code",
   "execution_count": 106,
   "id": "bdad07f0",
   "metadata": {},
   "outputs": [
    {
     "data": {
      "image/png": "[encoded data removed]",
      "text/plain": [
       "<Figure size 640x480 with 1 Axes>"
      ]
     },
     "metadata": {},
     "output_type": "display_data"
    }
   ],
   "source": [
    "import seaborn as sns\n",
    "import matplotlib.pyplot as plt\n",
    "\n",
    "# Sample data\n",
    "data = [1, 2, 2, 3, 4, 4, 4, 5, 6, 6, 7, 8, 8, 9, 10]\n",
    "\n",
    "# Create histogram with KDE\n",
    "sns.histplot(data, bins=10, kde=True)\n",
    "\n",
    "# Add labels and title\n",
    "plt.xlabel('speechiness')\n",
    "plt.ylabel('playlist_genre')\n",
    "plt.title('speechiness of differnet')\n",
    "\n",
    "# Show plot\n",
    "plt.show()"
   ]
  },
  {
   "cell_type": "code",
   "execution_count": null,
   "id": "7533e60b",
   "metadata": {},
   "outputs": [],
   "source": []
  }
 ],
 "metadata": {
  "kernelspec": {
   "display_name": "Python 3 (ipykernel)",
   "language": "python",
   "name": "python3"
  },
  "language_info": {
   "codemirror_mode": {
    "name": "ipython",
    "version": 3
   },
   "file_extension": ".py",
   "mimetype": "text/x-python",
   "name": "python",
   "nbconvert_exporter": "python",
   "pygments_lexer": "ipython3",
   "version": "3.9.13"
  }
 },
 "nbformat": 4,
 "nbformat_minor": 5
}
