{
 "cells": [
  {
   "cell_type": "code",
   "execution_count": 9,
   "id": "94f5fd62",
   "metadata": {},
   "outputs": [],
   "source": [
    "import pandas as pd"
   ]
  },
  {
   "cell_type": "code",
   "execution_count": 39,
   "id": "de2e7963",
   "metadata": {},
   "outputs": [],
   "source": [
    "df = pd.read_csv(\"cats - cats (1).csv\")"
   ]
  },
  {
   "cell_type": "code",
   "execution_count": 40,
   "id": "340f9df6",
   "metadata": {},
   "outputs": [
    {
     "data": {
      "text/plain": [
       "Index(['Unnamed: 0', 'Breed', 'Age (Years)', 'Weight (kg)', 'Weight (lbs)',\n",
       "       'Color', 'Gender', 'ID'],\n",
       "      dtype='object')"
      ]
     },
     "execution_count": 40,
     "metadata": {},
     "output_type": "execute_result"
    }
   ],
   "source": [
    "df.columns"
   ]
  },
  {
   "cell_type": "code",
   "execution_count": 41,
   "id": "047954ac",
   "metadata": {},
   "outputs": [],
   "source": [
    "df.drop(['Unnamed: 0'], inplace=True, axis=1)"
   ]
  },
  {
   "cell_type": "code",
   "execution_count": 42,
   "id": "0f833d88",
   "metadata": {
    "scrolled": false
   },
   "outputs": [
    {
     "data": {
      "text/html": [
       "<div>\n",
       "<style scoped>\n",
       "    .dataframe tbody tr th:only-of-type {\n",
       "        vertical-align: middle;\n",
       "    }\n",
       "\n",
       "    .dataframe tbody tr th {\n",
       "        vertical-align: top;\n",
       "    }\n",
       "\n",
       "    .dataframe thead th {\n",
       "        text-align: right;\n",
       "    }\n",
       "</style>\n",
       "<table border=\"1\" class=\"dataframe\">\n",
       "  <thead>\n",
       "    <tr style=\"text-align: right;\">\n",
       "      <th></th>\n",
       "      <th>Breed</th>\n",
       "      <th>Age (Years)</th>\n",
       "      <th>Weight (kg)</th>\n",
       "      <th>Weight (lbs)</th>\n",
       "      <th>Color</th>\n",
       "      <th>Gender</th>\n",
       "      <th>ID</th>\n",
       "    </tr>\n",
       "  </thead>\n",
       "  <tbody>\n",
       "    <tr>\n",
       "      <th>0</th>\n",
       "      <td>Tabby</td>\n",
       "      <td>3</td>\n",
       "      <td>5</td>\n",
       "      <td>11.0</td>\n",
       "      <td>Orange</td>\n",
       "      <td>Male</td>\n",
       "      <td>167</td>\n",
       "    </tr>\n",
       "    <tr>\n",
       "      <th>1</th>\n",
       "      <td>Egyptian Mau</td>\n",
       "      <td>12</td>\n",
       "      <td>7</td>\n",
       "      <td>17.0</td>\n",
       "      <td>White</td>\n",
       "      <td>Male</td>\n",
       "      <td>181</td>\n",
       "    </tr>\n",
       "    <tr>\n",
       "      <th>2</th>\n",
       "      <td>Scottish Fold</td>\n",
       "      <td>17</td>\n",
       "      <td>8</td>\n",
       "      <td>17.6</td>\n",
       "      <td>Tortoiseshell</td>\n",
       "      <td>Male</td>\n",
       "      <td>907</td>\n",
       "    </tr>\n",
       "    <tr>\n",
       "      <th>3</th>\n",
       "      <td>Sphynx</td>\n",
       "      <td>9</td>\n",
       "      <td>9</td>\n",
       "      <td>19.0</td>\n",
       "      <td>Orange</td>\n",
       "      <td>Male</td>\n",
       "      <td>732</td>\n",
       "    </tr>\n",
       "    <tr>\n",
       "      <th>4</th>\n",
       "      <td>Oriental</td>\n",
       "      <td>6</td>\n",
       "      <td>7</td>\n",
       "      <td>17.0</td>\n",
       "      <td>Gray</td>\n",
       "      <td>Female</td>\n",
       "      <td>464</td>\n",
       "    </tr>\n",
       "  </tbody>\n",
       "</table>\n",
       "</div>"
      ],
      "text/plain": [
       "           Breed  Age (Years)  Weight (kg)  Weight (lbs)          Color  \\\n",
       "0          Tabby            3            5          11.0         Orange   \n",
       "1   Egyptian Mau           12            7          17.0          White   \n",
       "2  Scottish Fold           17            8          17.6  Tortoiseshell   \n",
       "3         Sphynx            9            9          19.0         Orange   \n",
       "4       Oriental            6            7          17.0           Gray   \n",
       "\n",
       "   Gender   ID  \n",
       "0    Male  167  \n",
       "1    Male  181  \n",
       "2    Male  907  \n",
       "3    Male  732  \n",
       "4  Female  464  "
      ]
     },
     "execution_count": 42,
     "metadata": {},
     "output_type": "execute_result"
    }
   ],
   "source": [
    "df.head()"
   ]
  },
  {
   "cell_type": "code",
   "execution_count": 38,
   "id": "f26b261a",
   "metadata": {},
   "outputs": [
    {
     "name": "stdout",
     "output_type": "stream",
     "text": [
      "Breed           Maine Coon\n",
      "Age (Years)              9\n",
      "Weight (kg)              5\n",
      "Color                 Blue\n",
      "Gender              Female\n",
      "ID                     590\n",
      "Weight (lbs)           NaN\n",
      "Name: 99, dtype: object\n"
     ]
    }
   ],
   "source": [
    "sample_row = df.iloc[99]\n",
    "print(sample_row)"
   ]
  },
  {
   "cell_type": "code",
   "execution_count": null,
   "id": "1542c753",
   "metadata": {},
   "outputs": [],
   "source": []
  }
 ],
 "metadata": {
  "kernelspec": {
   "display_name": "Python 3 (ipykernel)",
   "language": "python",
   "name": "python3"
  },
  "language_info": {
   "codemirror_mode": {
    "name": "ipython",
    "version": 3
   },
   "file_extension": ".py",
   "mimetype": "text/x-python",
   "name": "python",
   "nbconvert_exporter": "python",
   "pygments_lexer": "ipython3",
   "version": "3.9.13"
  }
 },
 "nbformat": 4,
 "nbformat_minor": 5
}
